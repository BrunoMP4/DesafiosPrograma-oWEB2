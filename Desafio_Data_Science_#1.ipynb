{
  "nbformat": 4,
  "nbformat_minor": 0,
  "metadata": {
    "colab": {
      "provenance": [],
      "authorship_tag": "ABX9TyPrJB5tR5+uaCez7+W5pDHW",
      "include_colab_link": true
    },
    "kernelspec": {
      "name": "python3",
      "display_name": "Python 3"
    },
    "language_info": {
      "name": "python"
    }
  },
  "cells": [
    {
      "cell_type": "markdown",
      "metadata": {
        "id": "view-in-github",
        "colab_type": "text"
      },
      "source": [
        "<a href=\"https://colab.research.google.com/github/BrunoMP4/DesafiosPrograma-oWEB2/blob/main/Desafio_Data_Science_%231.ipynb\" target=\"_parent\"><img src=\"https://colab.research.google.com/assets/colab-badge.svg\" alt=\"Open In Colab\"/></a>"
      ]
    },
    {
      "cell_type": "code",
      "execution_count": 10,
      "metadata": {
        "colab": {
          "base_uri": "https://localhost:8080/"
        },
        "id": "aH-9XccYBvbO",
        "outputId": "4d365c26-890d-4099-b8b1-3bfba24393d8"
      },
      "outputs": [
        {
          "output_type": "stream",
          "name": "stdout",
          "text": [
            "Primeiros 12 registros:\n",
            "    userId  movieId  rating  timestamp\n",
            "0        1        1     4.0  964982703\n",
            "1        1        3     4.0  964981247\n",
            "2        1        6     4.0  964982224\n",
            "3        1       47     5.0  964983815\n",
            "4        1       50     5.0  964982931\n",
            "5        1       70     3.0  964982400\n",
            "6        1      101     5.0  964980868\n",
            "7        1      110     4.0  964982176\n",
            "8        1      151     5.0  964984041\n",
            "9        1      157     5.0  964984100\n",
            "10       1      163     5.0  964983650\n",
            "11       1      216     5.0  964981208\n",
            "\n",
            "Últimos 6 registros:\n",
            "        userId  movieId  rating   timestamp\n",
            "100830     610   166528     4.0  1493879365\n",
            "100831     610   166534     4.0  1493848402\n",
            "100832     610   168248     5.0  1493850091\n",
            "100833     610   168250     5.0  1494273047\n",
            "100834     610   168252     5.0  1493846352\n",
            "100835     610   170875     3.0  1493846415\n",
            "\n",
            "Tamanho da massa de dados:\n",
            "Número de linhas: 100836\n",
            "Número de colunas: 4\n"
          ]
        }
      ],
      "source": [
        "import pandas as pd\n",
        "\n",
        "uri = 'https://raw.githubusercontent.com/alura-cursos/introducao-a-data-science/master/aula1.2/ratings.csv'\n",
        "\n",
        "df = pd.read_csv(uri)\n",
        "\n",
        "print(\"Primeiros 12 registros:\")\n",
        "print(df.head(12))\n",
        "\n",
        "print(\"\\nÚltimos 6 registros:\")\n",
        "print(df.tail(6))\n",
        "\n",
        "print(\"\\nTamanho da massa de dados:\")\n",
        "print(\"Número de linhas:\", len(df))\n",
        "print(\"Número de colunas:\", len(df.columns))\n"
      ]
    }
  ]
}